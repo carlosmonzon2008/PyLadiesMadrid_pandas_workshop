{
 "cells": [
  {
   "cell_type": "markdown",
   "metadata": {
    "colab_type": "text",
    "id": "rD6AwaU3xD9q"
   },
   "source": [
    "# Now it's your turn! "
   ]
  },
  {
   "cell_type": "markdown",
   "metadata": {
    "colab_type": "text",
    "id": "qzhfJsHUi8Vv"
   },
   "source": [
    "Choose the dataset you prefer in this website and start analysing the variables and data inside! \n",
    "https://datos.civio.es/datasets/\n",
    "\n",
    "If you feel more confident to try gradually and check your results step-by-step, you can choose the same example I will use to go through and share on the screen. We will follow some key concepts that could be a typical pipeline for data analysis.\n",
    "\n",
    "https://datos.civio.es/dataset/resultados-de-las-inspecciones-de-seguridad-alimentaria-en-establecimientos-de-madrid/\n",
    "\n",
    "But if you prefer another dataset, feel free to choose another one!\n",
    "* You can always guide you with this example to start and then explore on your own.\n",
    "* Ask and share your doubts so we all learn from other examples!\n",
    "* If you choose another one, tell us what you observed!\n",
    "\n",
    "\n"
   ]
  },
  {
   "cell_type": "markdown",
   "metadata": {
    "colab_type": "text",
    "id": "pw2-fmlSarIe"
   },
   "source": [
    "---\n",
    "## 1. Download dataset & Import libraries\n",
    "\n",
    "---\n"
   ]
  },
  {
   "cell_type": "code",
   "execution_count": 1,
   "metadata": {
    "colab": {},
    "colab_type": "code",
    "id": "ozY-ILcliIc6"
   },
   "outputs": [
    {
     "name": "stdout",
     "output_type": "stream",
     "text": [
      "Requirement already satisfied: pandas in ./pandas/lib/python3.7/site-packages (1.0.1)\n",
      "Requirement already satisfied: pytz>=2017.2 in ./pandas/lib/python3.7/site-packages (from pandas) (2019.3)\n",
      "Requirement already satisfied: python-dateutil>=2.6.1 in ./pandas/lib/python3.7/site-packages (from pandas) (2.8.1)\n",
      "Requirement already satisfied: numpy>=1.13.3 in ./pandas/lib/python3.7/site-packages (from pandas) (1.18.1)\n",
      "Requirement already satisfied: six>=1.5 in ./pandas/lib/python3.7/site-packages (from python-dateutil>=2.6.1->pandas) (1.14.0)\n",
      "Requirement already satisfied: numpy in ./pandas/lib/python3.7/site-packages (1.18.1)\n",
      "Requirement already satisfied: matplotlib in ./pandas/lib/python3.7/site-packages (3.1.3)\n",
      "Requirement already satisfied: numpy>=1.11 in ./pandas/lib/python3.7/site-packages (from matplotlib) (1.18.1)\n",
      "Requirement already satisfied: kiwisolver>=1.0.1 in ./pandas/lib/python3.7/site-packages (from matplotlib) (1.1.0)\n",
      "Requirement already satisfied: python-dateutil>=2.1 in ./pandas/lib/python3.7/site-packages (from matplotlib) (2.8.1)\n",
      "Requirement already satisfied: pyparsing!=2.0.4,!=2.1.2,!=2.1.6,>=2.0.1 in ./pandas/lib/python3.7/site-packages (from matplotlib) (2.4.6)\n",
      "Requirement already satisfied: cycler>=0.10 in ./pandas/lib/python3.7/site-packages (from matplotlib) (0.10.0)\n",
      "Requirement already satisfied: setuptools in ./pandas/lib/python3.7/site-packages (from kiwisolver>=1.0.1->matplotlib) (45.2.0)\n",
      "Requirement already satisfied: six>=1.5 in ./pandas/lib/python3.7/site-packages (from python-dateutil>=2.1->matplotlib) (1.14.0)\n"
     ]
    }
   ],
   "source": [
    "# import numpy and pandas library\n",
    "import sys\n",
    "!{sys.executable} -m pip install pandas\n",
    "import pandas as pd\n",
    "\n",
    "import sys\n",
    "!{sys.executable} -m pip install numpy\n",
    "import numpy as np\n",
    "\n",
    "# import some library to plot data, i.e. matplotlib\n",
    "import sys\n",
    "!{sys.executable} -m pip install matplotlib"
   ]
  },
  {
   "cell_type": "markdown",
   "metadata": {
    "colab_type": "text",
    "id": "QflRzn8gu3bN"
   },
   "source": [
    "---\n",
    "## 2. Read csv & Explore the dataset!\n",
    "\n",
    "* How many registers and columns do we have?\n",
    "* Type of variables and how does look like the data inside?\n",
    "* Do we have missing values? \n",
    "* How would you better rename the labels or redefine the order of registers?\n",
    "---"
   ]
  },
  {
   "cell_type": "code",
   "execution_count": 2,
   "metadata": {
    "colab": {},
    "colab_type": "code",
    "id": "-nVaGyOSxQEU"
   },
   "outputs": [],
   "source": [
    "csv_path = ('./inputs/master_inspecciones_Madrid.v.2.3.csv')"
   ]
  },
  {
   "cell_type": "code",
   "execution_count": 5,
   "metadata": {
    "colab": {},
    "colab_type": "code",
    "id": "4H6KiMp9u71z"
   },
   "outputs": [],
   "source": [
    "dataframe = pd.read_csv(csv_path)\n",
    "df = dataframe"
   ]
  },
  {
   "cell_type": "markdown",
   "metadata": {
    "colab_type": "text",
    "id": "Hs0lC1EHce4k"
   },
   "source": [
    "---\n",
    "## 3. Analize & Understand the data!\n",
    "\n",
    "* What conclusions could you extract by analizing each variable?\n",
    "* Which variable look the most relevant one for the data owner objectives? \n",
    " \n",
    "---"
   ]
  },
  {
   "cell_type": "code",
   "execution_count": 6,
   "metadata": {
    "colab": {},
    "colab_type": "code",
    "id": "_fJL4LY7xQNY"
   },
   "outputs": [
    {
     "data": {
      "text/html": [
       "<div>\n",
       "<style scoped>\n",
       "    .dataframe tbody tr th:only-of-type {\n",
       "        vertical-align: middle;\n",
       "    }\n",
       "\n",
       "    .dataframe tbody tr th {\n",
       "        vertical-align: top;\n",
       "    }\n",
       "\n",
       "    .dataframe thead th {\n",
       "        text-align: right;\n",
       "    }\n",
       "</style>\n",
       "<table border=\"1\" class=\"dataframe\">\n",
       "  <thead>\n",
       "    <tr style=\"text-align: right;\">\n",
       "      <th></th>\n",
       "      <th>year</th>\n",
       "      <th>id</th>\n",
       "      <th>espacios(rótulo_refined)</th>\n",
       "      <th>Dirección</th>\n",
       "      <th>Epígrafe de actividad</th>\n",
       "      <th>Fecha de la inspección</th>\n",
       "      <th>Tipo de actuación</th>\n",
       "      <th>Perfil de la actividad</th>\n",
       "      <th>Estado higiénico sanitario</th>\n",
       "      <th>Frecuencia de inspección</th>\n",
       "      <th>...</th>\n",
       "      <th>Perfil de la actividad_2</th>\n",
       "      <th>Estado higiénico sanitario_2</th>\n",
       "      <th>Frecuencia de inspección_2</th>\n",
       "      <th>mejora o empeora</th>\n",
       "      <th>latitude</th>\n",
       "      <th>longitude</th>\n",
       "      <th>final_district</th>\n",
       "      <th>owner (education only)</th>\n",
       "      <th>Denominación genérica</th>\n",
       "      <th>fuente alternativa</th>\n",
       "    </tr>\n",
       "  </thead>\n",
       "  <tbody>\n",
       "    <tr>\n",
       "      <th>0</th>\n",
       "      <td>2019</td>\n",
       "      <td>3999</td>\n",
       "      <td>COLEGIO PÚBLICO</td>\n",
       "      <td>CALLE LOS YEBENES NUM 6</td>\n",
       "      <td>562902 - SERVICIOS DE COMEDOR EN CENTROS EDUCA...</td>\n",
       "      <td>29/05/2019</td>\n",
       "      <td>Programada</td>\n",
       "      <td>Prioridad alta</td>\n",
       "      <td>Favorable</td>\n",
       "      <td>Alta</td>\n",
       "      <td>...</td>\n",
       "      <td>Prioridad alta</td>\n",
       "      <td>Favorable</td>\n",
       "      <td>Alta</td>\n",
       "      <td>Sin cambios</td>\n",
       "      <td>40.397443</td>\n",
       "      <td>-3.755379</td>\n",
       "      <td>Latina</td>\n",
       "      <td>Centro público</td>\n",
       "      <td>NaN</td>\n",
       "      <td>NaN</td>\n",
       "    </tr>\n",
       "    <tr>\n",
       "      <th>1</th>\n",
       "      <td>2019</td>\n",
       "      <td>5</td>\n",
       "      <td>AMADEO VIVES (Escuela infantil)</td>\n",
       "      <td>CALLE LOS YEBENES NUM 6</td>\n",
       "      <td>562902 - SERVICIOS DE COMEDOR EN CENTROS EDUCA...</td>\n",
       "      <td>22/05/2019</td>\n",
       "      <td>Programada</td>\n",
       "      <td>Prioridad media</td>\n",
       "      <td>Desfavorable</td>\n",
       "      <td>Muy Alta</td>\n",
       "      <td>...</td>\n",
       "      <td>Prioridad alta</td>\n",
       "      <td>Favorable</td>\n",
       "      <td>Alta</td>\n",
       "      <td>Empeora</td>\n",
       "      <td>40.397443</td>\n",
       "      <td>-3.755379</td>\n",
       "      <td>Latina</td>\n",
       "      <td>Centro público</td>\n",
       "      <td>Infantil</td>\n",
       "      <td>NaN</td>\n",
       "    </tr>\n",
       "    <tr>\n",
       "      <th>2</th>\n",
       "      <td>2018</td>\n",
       "      <td>foi</td>\n",
       "      <td>JUAN RARO</td>\n",
       "      <td>CALLE AMPARO NUM 84</td>\n",
       "      <td>561005 - BAR CON COCINA</td>\n",
       "      <td>NaN</td>\n",
       "      <td>---</td>\n",
       "      <td>Prioridad media</td>\n",
       "      <td>Favorable</td>\n",
       "      <td>Media</td>\n",
       "      <td>...</td>\n",
       "      <td>Prioridad media</td>\n",
       "      <td>Desfavorable</td>\n",
       "      <td>Muy Alta</td>\n",
       "      <td>Mejora</td>\n",
       "      <td>40.406932</td>\n",
       "      <td>-3.700874</td>\n",
       "      <td>Centro</td>\n",
       "      <td>NaN</td>\n",
       "      <td>NaN</td>\n",
       "      <td>NaN</td>\n",
       "    </tr>\n",
       "    <tr>\n",
       "      <th>3</th>\n",
       "      <td>2018</td>\n",
       "      <td>foi</td>\n",
       "      <td>CENTRO GERIATRICO HORTALEZA</td>\n",
       "      <td>CALLE LAS PEDROÑERAS NUM 38</td>\n",
       "      <td>562903 - SERVICIOS DE COMEDOR EN CENTROS PARA ...</td>\n",
       "      <td>14/06/2018</td>\n",
       "      <td>---</td>\n",
       "      <td>Prioridad alta</td>\n",
       "      <td>Favorable condicionado</td>\n",
       "      <td>Alta</td>\n",
       "      <td>...</td>\n",
       "      <td>NaN</td>\n",
       "      <td>NaN</td>\n",
       "      <td>NaN</td>\n",
       "      <td>NaN</td>\n",
       "      <td>40.466326</td>\n",
       "      <td>-3.630528</td>\n",
       "      <td>Hortaleza</td>\n",
       "      <td>Centro privado</td>\n",
       "      <td>NaN</td>\n",
       "      <td>NaN</td>\n",
       "    </tr>\n",
       "    <tr>\n",
       "      <th>4</th>\n",
       "      <td>2019</td>\n",
       "      <td>foi</td>\n",
       "      <td>E.I. CARANA CON COMEDOR</td>\n",
       "      <td>CALLE CARLOS SAN JOSE NUM 7</td>\n",
       "      <td>562902 - SERVICIOS DE COMEDOR EN CENTROS EDUCA...</td>\n",
       "      <td>2019-04-22</td>\n",
       "      <td>---</td>\n",
       "      <td>Prioridad media</td>\n",
       "      <td>Favorable</td>\n",
       "      <td>Media</td>\n",
       "      <td>...</td>\n",
       "      <td>Prioridad media</td>\n",
       "      <td>Desfavorable</td>\n",
       "      <td>Muy Alta</td>\n",
       "      <td>Mejora</td>\n",
       "      <td>40.465945</td>\n",
       "      <td>-3.781909</td>\n",
       "      <td>Moncloa-Aravaca</td>\n",
       "      <td>Centro privado</td>\n",
       "      <td>Infantil</td>\n",
       "      <td>NaN</td>\n",
       "    </tr>\n",
       "  </tbody>\n",
       "</table>\n",
       "<p>5 rows × 25 columns</p>\n",
       "</div>"
      ],
      "text/plain": [
       "   year    id         espacios(rótulo_refined)                     Dirección  \\\n",
       "0  2019  3999                  COLEGIO PÚBLICO      CALLE LOS YEBENES NUM 6    \n",
       "1  2019     5  AMADEO VIVES (Escuela infantil)      CALLE LOS YEBENES NUM 6    \n",
       "2  2018   foi                        JUAN RARO          CALLE AMPARO NUM 84    \n",
       "3  2018   foi      CENTRO GERIATRICO HORTALEZA  CALLE LAS PEDROÑERAS NUM 38    \n",
       "4  2019   foi          E.I. CARANA CON COMEDOR  CALLE CARLOS SAN JOSE NUM 7    \n",
       "\n",
       "                               Epígrafe de actividad Fecha de la inspección  \\\n",
       "0  562902 - SERVICIOS DE COMEDOR EN CENTROS EDUCA...             29/05/2019   \n",
       "1  562902 - SERVICIOS DE COMEDOR EN CENTROS EDUCA...             22/05/2019   \n",
       "2                            561005 - BAR CON COCINA                    NaN   \n",
       "3  562903 - SERVICIOS DE COMEDOR EN CENTROS PARA ...             14/06/2018   \n",
       "4  562902 - SERVICIOS DE COMEDOR EN CENTROS EDUCA...             2019-04-22   \n",
       "\n",
       "  Tipo de actuación Perfil de la actividad Estado higiénico sanitario  \\\n",
       "0        Programada         Prioridad alta                  Favorable   \n",
       "1        Programada        Prioridad media               Desfavorable   \n",
       "2               ---        Prioridad media                  Favorable   \n",
       "3               ---         Prioridad alta     Favorable condicionado   \n",
       "4               ---        Prioridad media                  Favorable   \n",
       "\n",
       "  Frecuencia de inspección  ... Perfil de la actividad_2  \\\n",
       "0                     Alta  ...           Prioridad alta   \n",
       "1                 Muy Alta  ...           Prioridad alta   \n",
       "2                    Media  ...          Prioridad media   \n",
       "3                     Alta  ...                      NaN   \n",
       "4                    Media  ...          Prioridad media   \n",
       "\n",
       "   Estado higiénico sanitario_2  Frecuencia de inspección_2 mejora o empeora  \\\n",
       "0                     Favorable                        Alta      Sin cambios   \n",
       "1                     Favorable                        Alta          Empeora   \n",
       "2                  Desfavorable                    Muy Alta           Mejora   \n",
       "3                           NaN                         NaN              NaN   \n",
       "4                  Desfavorable                    Muy Alta           Mejora   \n",
       "\n",
       "    latitude longitude   final_district owner (education only)  \\\n",
       "0  40.397443 -3.755379           Latina         Centro público   \n",
       "1  40.397443 -3.755379           Latina         Centro público   \n",
       "2  40.406932 -3.700874           Centro                    NaN   \n",
       "3  40.466326 -3.630528        Hortaleza         Centro privado   \n",
       "4  40.465945 -3.781909  Moncloa-Aravaca         Centro privado   \n",
       "\n",
       "  Denominación genérica  fuente alternativa  \n",
       "0                   NaN                 NaN  \n",
       "1              Infantil                 NaN  \n",
       "2                   NaN                 NaN  \n",
       "3                   NaN                 NaN  \n",
       "4              Infantil                 NaN  \n",
       "\n",
       "[5 rows x 25 columns]"
      ]
     },
     "execution_count": 6,
     "metadata": {},
     "output_type": "execute_result"
    }
   ],
   "source": [
    "df.head()"
   ]
  },
  {
   "cell_type": "code",
   "execution_count": 43,
   "metadata": {
    "colab": {},
    "colab_type": "code",
    "id": "P-yzZkuwxQXQ"
   },
   "outputs": [
    {
     "data": {
      "text/plain": [
       "array(['Favorable', 'Desfavorable', 'Favorable condicionado'],\n",
       "      dtype=object)"
      ]
     },
     "execution_count": 43,
     "metadata": {},
     "output_type": "execute_result"
    }
   ],
   "source": [
    "df['Estado higiénico sanitario'].unique()"
   ]
  },
  {
   "cell_type": "markdown",
   "metadata": {
    "colab_type": "text",
    "id": "VVDjemr4dbxB"
   },
   "source": [
    "---\n",
    "## 4. Clean & Transform data!\n",
    "* What should/could we do with missing values?\n",
    "* Do we need to enrich our data analysis by creating new variables?\n",
    "---"
   ]
  },
  {
   "cell_type": "code",
   "execution_count": 20,
   "metadata": {
    "colab": {},
    "colab_type": "code",
    "id": "OrlIogbyxQlP"
   },
   "outputs": [
    {
     "data": {
      "text/plain": [
       "11228"
      ]
     },
     "execution_count": 20,
     "metadata": {},
     "output_type": "execute_result"
    }
   ],
   "source": [
    "df['Estado higiénico sanitario'].count()"
   ]
  },
  {
   "cell_type": "code",
   "execution_count": 37,
   "metadata": {
    "colab": {},
    "colab_type": "code",
    "id": "GrSmqaETxQUu"
   },
   "outputs": [
    {
     "data": {
      "text/plain": [
       "0"
      ]
     },
     "execution_count": 37,
     "metadata": {},
     "output_type": "execute_result"
    }
   ],
   "source": [
    "sum(df['Estado higiénico sanitario'].isnull())"
   ]
  },
  {
   "cell_type": "code",
   "execution_count": 52,
   "metadata": {},
   "outputs": [
    {
     "data": {
      "text/plain": [
       "2517"
      ]
     },
     "execution_count": 52,
     "metadata": {},
     "output_type": "execute_result"
    }
   ],
   "source": [
    "df['Estado higiénico sanitario_2'].count()"
   ]
  },
  {
   "cell_type": "code",
   "execution_count": 57,
   "metadata": {},
   "outputs": [
    {
     "data": {
      "text/plain": [
       "2517"
      ]
     },
     "execution_count": 57,
     "metadata": {},
     "output_type": "execute_result"
    }
   ],
   "source": [
    "sum(df['Estado higiénico sanitario_2'].notnull())"
   ]
  },
  {
   "cell_type": "code",
   "execution_count": 53,
   "metadata": {},
   "outputs": [
    {
     "data": {
      "text/plain": [
       "8711"
      ]
     },
     "execution_count": 53,
     "metadata": {},
     "output_type": "execute_result"
    }
   ],
   "source": [
    "sum(df['Estado higiénico sanitario_2'].isnull())"
   ]
  },
  {
   "cell_type": "code",
   "execution_count": 61,
   "metadata": {},
   "outputs": [],
   "source": [
    "#df.drop(columns=['Estado higiénico sanitario_2'].isnull(), inplace=True)\n",
    "df2 = df[(df['Estado higiénico sanitario_2'].notnull())]"
   ]
  },
  {
   "cell_type": "markdown",
   "metadata": {
    "colab_type": "text",
    "id": "8k1MjvuZfc2o"
   },
   "source": [
    "---\n",
    "## 5. Look for patterns or differences to extract Insights\n",
    "* Which other dimensions look interesting to cross with the main variable?\n",
    "* Do you observe any interesting differences or patterns when grouping by categories?\n",
    "---"
   ]
  },
  {
   "cell_type": "code",
   "execution_count": 62,
   "metadata": {
    "colab": {},
    "colab_type": "code",
    "id": "Tg1DYFutxQSM"
   },
   "outputs": [
    {
     "data": {
      "text/plain": [
       "<matplotlib.axes._subplots.AxesSubplot at 0x7f3b78be5cc0>"
      ]
     },
     "execution_count": 62,
     "metadata": {},
     "output_type": "execute_result"
    },
    {
     "data": {
      "image/png": "[encoded data removed]",
      "text/plain": [
       "<Figure size 432x288 with 1 Axes>"
      ]
     },
     "metadata": {
      "needs_background": "light"
     },
     "output_type": "display_data"
    }
   ],
   "source": [
    "df2['Estado higiénico sanitario'].hist()"
   ]
  },
  {
   "cell_type": "code",
   "execution_count": 63,
   "metadata": {},
   "outputs": [
    {
     "data": {
      "text/plain": [
       "Favorable                 1756\n",
       "Desfavorable               526\n",
       "Favorable condicionado     235\n",
       "Name: Estado higiénico sanitario, dtype: int64"
      ]
     },
     "execution_count": 63,
     "metadata": {},
     "output_type": "execute_result"
    }
   ],
   "source": [
    "df2['Estado higiénico sanitario'].value_counts()"
   ]
  },
  {
   "cell_type": "code",
   "execution_count": 64,
   "metadata": {
    "colab": {},
    "colab_type": "code",
    "id": "ty6l12goxQQR"
   },
   "outputs": [
    {
     "data": {
      "text/plain": [
       "<matplotlib.axes._subplots.AxesSubplot at 0x7f3b789ecf28>"
      ]
     },
     "execution_count": 64,
     "metadata": {},
     "output_type": "execute_result"
    },
    {
     "data": {
      "image/png": "[encoded data removed]",
      "text/plain": [
       "<Figure size 432x288 with 1 Axes>"
      ]
     },
     "metadata": {
      "needs_background": "light"
     },
     "output_type": "display_data"
    }
   ],
   "source": [
    "df2['Estado higiénico sanitario_2'].hist()"
   ]
  },
  {
   "cell_type": "code",
   "execution_count": 65,
   "metadata": {},
   "outputs": [
    {
     "data": {
      "text/plain": [
       "Favorable                 1482\n",
       "Desfavorable               786\n",
       "Favorable condicionado     249\n",
       "Name: Estado higiénico sanitario_2, dtype: int64"
      ]
     },
     "execution_count": 65,
     "metadata": {},
     "output_type": "execute_result"
    }
   ],
   "source": [
    "df2['Estado higiénico sanitario_2'].value_counts()"
   ]
  },
  {
   "cell_type": "code",
   "execution_count": 0,
   "metadata": {
    "colab": {},
    "colab_type": "code",
    "id": "W7_taLiixQLp"
   },
   "outputs": [],
   "source": []
  },
  {
   "cell_type": "markdown",
   "metadata": {
    "colab_type": "text",
    "id": "M3ZT3Na-hyNA"
   },
   "source": [
    "---\n",
    "## 6. Tell us...\n",
    "* Which dataset did you choose? \n",
    "* How big or complex it was?\n",
    "* What variables you found more interesting to work with?\n",
    "* What did you find out?\n",
    "* What are you next steps?\n",
    "---"
   ]
  },
  {
   "cell_type": "markdown",
   "metadata": {
    "colab": {},
    "colab_type": "code",
    "id": "ZemlaUfmiVY9"
   },
   "source": [
    "Resultados de las inspecciones de seguridad alimentaria en establecimientos de Madrid"
   ]
  },
  {
   "cell_type": "markdown",
   "metadata": {
    "colab": {},
    "colab_type": "code",
    "id": "NtfqaFCOucXy"
   },
   "source": [
    "It has 11228 rows, but just 2517 rows have values in both columns 'Estado higiénico sanitario' and 'Estado higiénico sanitario_2'"
   ]
  },
  {
   "cell_type": "markdown",
   "metadata": {
    "colab": {},
    "colab_type": "code",
    "id": "IePjSED6ufo1"
   },
   "source": [
    "'Estado higiénico sanitario' and 'Estado higiénico sanitario_2'"
   ]
  },
  {
   "cell_type": "markdown",
   "metadata": {
    "colab": {},
    "colab_type": "code",
    "id": "c8b_aZKEuf4A"
   },
   "source": [
    "That from the previous inspection to the next one, the hygiene found in the establishments is worse than before."
   ]
  },
  {
   "cell_type": "markdown",
   "metadata": {
    "colab": {},
    "colab_type": "code",
    "id": "QXYSRFaBugD2"
   },
   "source": []
  },
  {
   "cell_type": "markdown",
   "metadata": {
    "colab_type": "text",
    "id": "cdGwKcLSjeOI"
   },
   "source": [
    "---\n",
    "##7. Before leaving...Let's Share with the Pyladies Community :)\n",
    "So we can all learn from and inspire to each others:\n",
    "* add your Jupyter / Colab to your GitHub repository\n",
    "* go to the following link: https://notepad.pw/y6gkb20i\n",
    "* write your name/user : link to your Pandas repository or jupyter file\n",
    "\n",
    "Cecil: https://github.com/gabaxi/workshops/tree/master/pandas\n",
    "\n",
    "---"
   ]
  },
  {
   "cell_type": "code",
   "execution_count": 0,
   "metadata": {
    "colab": {},
    "colab_type": "code",
    "id": "JHg30j7fiVcl"
   },
   "outputs": [],
   "source": []
  }
 ],
 "metadata": {
  "colab": {
   "collapsed_sections": [],
   "name": "Civio_dataset_analysis_Challenge.ipynb",
   "provenance": []
  },
  "kernelspec": {
   "display_name": "Python 3",
   "language": "python",
   "name": "python3"
  },
  "language_info": {
   "codemirror_mode": {
    "name": "ipython",
    "version": 3
   },
   "file_extension": ".py",
   "mimetype": "text/x-python",
   "name": "python",
   "nbconvert_exporter": "python",
   "pygments_lexer": "ipython3",
   "version": "3.7.3"
  }
 },
 "nbformat": 4,
 "nbformat_minor": 1
}
